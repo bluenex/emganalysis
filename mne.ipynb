{
 "cells": [
  {
   "cell_type": "code",
   "execution_count": null,
   "metadata": {
    "collapsed": false
   },
   "outputs": [],
   "source": [
    "import mne\n",
    "import numpy as np\n",
    "import matplotlib.pyplot as plt\n",
    "import seaborn as sns\n",
    "\n",
    "sns.set(style='ticks', palette='Set2')\n",
    "sns.set_context(\"paper\", font_scale=1.5, rc={\"lines.linewidth\": 1})\n",
    "sns.despine()\n",
    "\n",
    "dataPath = \"/Users/tulakan/OneDrive/BME/Rehabilitation Project/EMG data/EMG Gyro 22-23 Jul 2015\"  # raw data dir\n",
    "raw_fname = dataPath + '/Aon/both_aon.ASC'\n",
    "# print(raw_fname) \n",
    "\n",
    "rawdt = np.loadtxt(raw_fname, skiprows=3)\n",
    "#     fstcoldt = rawdt[:, 0]  # first column data 1,2,3,...,len(data)\n",
    "#     fstcoldtassec = fstcoldt/int(spr)  # convert hertz to sec\n",
    "rawdt = rawdt[:, 1:]  # 10 channels of muscles\n",
    "# print \"DONE\""
   ]
  },
  {
   "cell_type": "code",
   "execution_count": null,
   "metadata": {
    "collapsed": false
   },
   "outputs": [],
   "source": [
    "raw_ch1 = rawdt[:,1]\n",
    "\n",
    "raw_ch1 = np.array(raw_ch1)\n",
    "raw_ch1.dtype\n",
    "# np.shape(raw_ch1)\n",
    "#np.dtype(raw_ch1)"
   ]
  },
  {
   "cell_type": "code",
   "execution_count": null,
   "metadata": {
    "collapsed": true
   },
   "outputs": [],
   "source": [
    "ch1_hp = mne.filter.high_pass_filter(raw_ch1,1024,50)"
   ]
  },
  {
   "cell_type": "code",
   "execution_count": null,
   "metadata": {
    "collapsed": false
   },
   "outputs": [],
   "source": [
    "plt.figure(figsize=(40,10)) # (75,15) works fine too\n",
    "# plt.title(header[i].split(\"-\")[-1]+\" - \"+subjectToPlot+\" - \"+str.upper(axes))\n",
    "plt.subplot(2,1,1)\n",
    "plt.plot(ch1_hp, label=\"highpass\")\n",
    "plt.subplot(2,1,2)\n",
    "plt.plot(raw_ch1, label=\"raw\")\n",
    "plt.show()"
   ]
  },
  {
   "cell_type": "code",
   "execution_count": null,
   "metadata": {
    "collapsed": false
   },
   "outputs": [],
   "source": [
    "mne.viz.plot_raw(ch1_hp)"
   ]
  }
 ],
 "metadata": {
  "kernelspec": {
   "display_name": "Python 2",
   "language": "python",
   "name": "python2"
  },
  "language_info": {
   "codemirror_mode": {
    "name": "ipython",
    "version": 2
   },
   "file_extension": ".py",
   "mimetype": "text/x-python",
   "name": "python",
   "nbconvert_exporter": "python",
   "pygments_lexer": "ipython2",
   "version": "2.7.10"
  }
 },
 "nbformat": 4,
 "nbformat_minor": 0
}
